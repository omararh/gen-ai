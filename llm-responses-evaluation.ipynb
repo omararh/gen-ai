{
 "cells": [
  {
   "metadata": {},
   "cell_type": "markdown",
   "source": [
    "L'objectif ici est d'évaluer les réponses des modèles de langage (LLM) en s'appuyant sur une métrique clairement définie. Le but est d'automatiser des tests basés sur cette métrique afin d'éviter une approche empirique et subjective.\n",
    "\n",
    "L'automatisation des tests nécessite un travail de développement important, c'est pourquoi l'objectif est d'examiner comment `langSmith` peut nous aider à réduire ces efforts.\n",
    "NB : `LangSmith` est une plateforme permettant de créer des applications LLM de niveau production. Suivez et évaluez votre candidature pour une livraison rapide et sereine:\n",
    "https://docs.langchain.com/langsmith/home\n"
   ],
   "id": "2296e7e71f83d93b"
  },
  {
   "metadata": {},
   "cell_type": "code",
   "source": [
    "# install and import needed dependencies\n",
    "\n",
    "!pip install pandas matplotlib seaborn langchain-mistralai langchain-huggingface langsmith scikit-learn numpy\n",
    "\n",
    "import os\n",
    "from datetime import datetime\n",
    "from langchain_mistralai import ChatMistralAI\n",
    "from langchain_huggingface import HuggingFaceEmbeddings\n",
    "from langsmith import Client\n",
    "from langsmith.evaluation import evaluate\n",
    "from langsmith.schemas import Example, Run\n",
    "from sklearn.metrics.pairwise import cosine_similarity\n",
    "import numpy as np"
   ],
   "id": "3e297dac8beefdf8",
   "outputs": [],
   "execution_count": null
  },
  {
   "metadata": {
    "ExecuteTime": {
     "end_time": "2025-10-02T19:43:11.476774Z",
     "start_time": "2025-10-02T19:39:14.026389Z"
    }
   },
   "cell_type": "code",
   "source": [
    "# Configuration LangSmith\n",
    "import getpass\n",
    "\n",
    "os.environ[\"LANGCHAIN_TRACING_V2\"] = \"true\"\n",
    "os.environ[\"LANGCHAIN_PROJECT\"] = \"performance-analysis\"\n",
    "os.environ[\"LANGCHAIN_API_KEY\"] = getpass.getpass(\"Please enter your langSmith API key (hit enter): \")"
   ],
   "id": "b7b2ab3a5f9086a7",
   "outputs": [],
   "execution_count": 7
  },
  {
   "metadata": {
    "ExecuteTime": {
     "end_time": "2025-10-02T19:43:37.467477Z",
     "start_time": "2025-10-02T19:43:19.424092Z"
    }
   },
   "cell_type": "code",
   "source": [
    "# Set up models\n",
    "MISTRAL_APIKEY = getpass.getpass(\"Please enter your Mistral API key (hit enter): \")\n",
    "\n",
    "client = Client()\n",
    "llm = ChatMistralAI(model=\"mistral-small-latest\", mistral_api_key=MISTRAL_APIKEY)\n",
    "embeddings_model = HuggingFaceEmbeddings(model_name=\"Qwen/Qwen3-Embedding-0.6B\")"
   ],
   "id": "5ac8361048b4f5e3",
   "outputs": [],
   "execution_count": 8
  },
  {
   "metadata": {
    "ExecuteTime": {
     "end_time": "2025-10-02T19:43:44.293602Z",
     "start_time": "2025-10-02T19:43:44.285444Z"
    }
   },
   "cell_type": "code",
   "source": [
    "dataset_name = \"math-qa-performance\"\n",
    "\n",
    "def create_large_dataset():\n",
    "    \"\"\"create data set input/output(expected)\"\"\"\n",
    "\n",
    "    try:\n",
    "        dataset = client.create_dataset(dataset_name)\n",
    "    except:\n",
    "        # If dataset already exist\n",
    "        dataset = client.read_dataset(dataset_name=dataset_name)\n",
    "\n",
    "    examples = [\n",
    "        {\"inputs\": {\"question\": \"Combien font deux plus trois?\", \"difficulty\": \"easy\"},\n",
    "         \"outputs\": {\"expected\": \"Deux plus trois égale cinq.\"}},\n",
    "        {\"inputs\": {\"question\": \"Quelle est la différence entre dix et quatre?\", \"difficulty\": \"easy\"},\n",
    "         \"outputs\": {\"expected\": \"La différence entre dix et quatre est six.\"}},\n",
    "        {\"inputs\": {\"question\": \"Quel est le résultat de cinq multiplié par deux?\", \"difficulty\": \"easy\"},\n",
    "         \"outputs\": {\"expected\": \"Cinq multiplié par deux donne dix.\"}},\n",
    "\n",
    "        {\"inputs\": {\"question\": \"Comment calculer douze fois quinze?\", \"difficulty\": \"medium\"},\n",
    "         \"outputs\": {\"expected\": \"Pour calculer douze fois quinze, on multiplie 12 par 15, ce qui donne 180.\"}},\n",
    "        {\"inputs\": {\"question\": \"Quelle est la racine carrée de soixante-quatre?\", \"difficulty\": \"medium\"},\n",
    "         \"outputs\": {\"expected\": \"La racine carrée de soixante-quatre est huit, car huit au carré égale soixante-quatre.\"}},\n",
    "        {\"inputs\": {\"question\": \"Comment diviser cent quarante-quatre par douze?\", \"difficulty\": \"medium\"},\n",
    "         \"outputs\": {\"expected\": \"Pour diviser cent quarante-quatre par douze, on obtient douze comme résultat.\"}},\n",
    "\n",
    "        {\"inputs\": {\"question\": \"Comment résoudre l'équation deux x plus cinq égale quinze?\", \"difficulty\": \"hard\"},\n",
    "         \"outputs\": {\"expected\": \"Pour résoudre 2x + 5 = 15, on soustrait 5 des deux côtés pour obtenir 2x = 10, puis on divise par 2 pour trouver x = 5.\"}},\n",
    "        {\"inputs\": {\"question\": \"Quelle est la valeur du sinus de trente degrés?\", \"difficulty\": \"hard\"},\n",
    "         \"outputs\": {\"expected\": \"Le sinus de trente degrés est égal à un demi ou 0,5.\"}},\n",
    "        {\"inputs\": {\"question\": \"Comment calculer la dérivée de x au carré plus trois x?\", \"difficulty\": \"hard\"},\n",
    "         \"outputs\": {\"expected\": \"La dérivée de x² + 3x est 2x + 3, en appliquant la règle de dérivation des polynômes.\"}},\n",
    "    ]\n",
    "\n",
    "    for example in examples:\n",
    "        client.create_example(\n",
    "            inputs=example[\"inputs\"],\n",
    "            outputs=example[\"outputs\"],\n",
    "            dataset_id=dataset.id\n",
    "        )"
   ],
   "id": "2ced904a7fdea56f",
   "outputs": [],
   "execution_count": 10
  },
  {
   "metadata": {
    "ExecuteTime": {
     "end_time": "2025-10-02T19:43:45.500027Z",
     "start_time": "2025-10-02T19:43:45.496712Z"
    }
   },
   "cell_type": "code",
   "source": [
    "def math_qa_chain(inputs):\n",
    "    \"\"\"\"\"\"\n",
    "    question = inputs[\"question\"]\n",
    "    difficulty = inputs.get(\"difficulty\", \"unknown\")\n",
    "\n",
    "    if difficulty == \"hard\":\n",
    "        prompt = f\"Tu es un professeur de mathématiques. Explique clairement et en détail comment résoudre cette question: {question}. Donne une réponse complète en français.\"\n",
    "    else:\n",
    "        prompt = f\"Réponds à cette question mathématique en expliquant ta réponse en français de manière claire et naturelle: {question}\"\n",
    "\n",
    "    response = llm.invoke(prompt)\n",
    "    return {\"answer\": response.content, \"difficulty\": difficulty}"
   ],
   "id": "6e254cc21cd2981e",
   "outputs": [],
   "execution_count": 11
  },
  {
   "metadata": {
    "ExecuteTime": {
     "end_time": "2025-10-02T19:43:46.062038Z",
     "start_time": "2025-10-02T19:43:46.056832Z"
    }
   },
   "cell_type": "code",
   "source": [
    "def semantic_similarity_evaluator(run: Run, example: Example) -> dict:\n",
    "    \"\"\"\"\"\"\n",
    "    predicted_text = run.outputs.get(\"answer\", \"\")\n",
    "    expected_text = example.outputs.get(\"expected\", \"\")\n",
    "\n",
    "    if not predicted_text or not expected_text:\n",
    "        return {\"key\": \"semantic_similarity\", \"score\": 0}\n",
    "\n",
    "    try:\n",
    "\n",
    "        predicted_embedding = embeddings_model.embed_query(predicted_text)\n",
    "        expected_embedding = embeddings_model.embed_query(expected_text)\n",
    "\n",
    "        similarity = cosine_similarity(\n",
    "            np.array(predicted_embedding).reshape(1, -1),\n",
    "            np.array(expected_embedding).reshape(1, -1)\n",
    "        )[0][0]\n",
    "\n",
    "        return {\n",
    "            \"key\": \"semantic_similarity\",\n",
    "            \"score\": float(similarity),\n",
    "            \"comment\": f\"Similarité: {similarity:.3f}\"\n",
    "        }\n",
    "    except Exception as e:\n",
    "        return {\n",
    "            \"key\": \"semantic_similarity\",\n",
    "            \"score\": 0,\n",
    "            \"comment\": f\"Erreur: {str(e)}\"\n",
    "        }"
   ],
   "id": "826d59858857bf91",
   "outputs": [],
   "execution_count": 12
  },
  {
   "metadata": {
    "ExecuteTime": {
     "end_time": "2025-10-02T19:43:47.674789Z",
     "start_time": "2025-10-02T19:43:47.669519Z"
    }
   },
   "cell_type": "code",
   "source": [
    "def run_comprehensive_evaluation():\n",
    "    \"\"\"Lance une évaluation complète et retourne les données brutes - Focus semantic similarity\"\"\"\n",
    "\n",
    "    print(\"🚀 Running...\")\n",
    "\n",
    "    for run_number in range(3):  # 3 exécutions pour avoir des données\n",
    "        print(f\"   Run {run_number + 1}/3...\")\n",
    "\n",
    "        evaluate(\n",
    "            math_qa_chain,\n",
    "            data=dataset_name,\n",
    "            evaluators=[\n",
    "                semantic_similarity_evaluator\n",
    "            ],\n",
    "            experiment_prefix=f\"math-performance-run-{run_number}\",\n",
    "            metadata={\n",
    "                \"run_number\": run_number,\n",
    "                \"timestamp\": datetime.now().isoformat()\n",
    "            }\n",
    "        )"
   ],
   "id": "3e8aa65d97b9219c",
   "outputs": [],
   "execution_count": 13
  },
  {
   "metadata": {
    "ExecuteTime": {
     "end_time": "2025-10-02T19:45:53.054476Z",
     "start_time": "2025-10-02T19:43:50.663172Z"
    }
   },
   "cell_type": "code",
   "source": [
    "def run_complete_analysis():\n",
    "    \"\"\"Workflow complet: Tests LangSmith → Données → Visualisations\"\"\"\n",
    "\n",
    "    print(\"🔬 DÉMARRAGE DE L'ANALYSE COMPLÈTE\")\n",
    "    print(\"=\" * 50)\n",
    "\n",
    "    # 1. Créer le dataset\n",
    "    create_large_dataset()\n",
    "    print(\"✅ Dataset créé\")\n",
    "\n",
    "    run_comprehensive_evaluation()\n",
    "\n",
    "# Exécution\n",
    "if __name__ == \"__main__\":\n",
    "    run_complete_analysis()"
   ],
   "id": "eebed1fffd988f4f",
   "outputs": [
    {
     "name": "stdout",
     "output_type": "stream",
     "text": [
      "🔬 DÉMARRAGE DE L'ANALYSE COMPLÈTE\n",
      "==================================================\n",
      "✅ Dataset créé\n",
      "🚀 Running...\n",
      "   Run 1/3...\n",
      "View the evaluation results for experiment: 'math-performance-run-0-edd9df7c' at:\n",
      "https://smith.langchain.com/o/1f3656ac-a27f-4b91-be8d-ff9ac7fdf742/datasets/e1ee4503-359e-4033-9199-3dd06a6781fe/compare?selectedSessions=cce86fa6-83cb-4509-9cdc-085171bb9de9\n",
      "\n",
      "\n"
     ]
    },
    {
     "name": "stderr",
     "output_type": "stream",
     "text": [
      "9it [00:38,  4.23s/it]\n"
     ]
    },
    {
     "name": "stdout",
     "output_type": "stream",
     "text": [
      "   Run 2/3...\n",
      "View the evaluation results for experiment: 'math-performance-run-1-c9095006' at:\n",
      "https://smith.langchain.com/o/1f3656ac-a27f-4b91-be8d-ff9ac7fdf742/datasets/e1ee4503-359e-4033-9199-3dd06a6781fe/compare?selectedSessions=2951ae3f-b025-4795-bf2d-4aafad07a993\n",
      "\n",
      "\n"
     ]
    },
    {
     "name": "stderr",
     "output_type": "stream",
     "text": [
      "9it [00:34,  3.81s/it]\n"
     ]
    },
    {
     "name": "stdout",
     "output_type": "stream",
     "text": [
      "   Run 3/3...\n",
      "View the evaluation results for experiment: 'math-performance-run-2-91fa9207' at:\n",
      "https://smith.langchain.com/o/1f3656ac-a27f-4b91-be8d-ff9ac7fdf742/datasets/e1ee4503-359e-4033-9199-3dd06a6781fe/compare?selectedSessions=fea159d5-7ed8-4744-b75a-8b95374b9d58\n",
      "\n",
      "\n"
     ]
    },
    {
     "name": "stderr",
     "output_type": "stream",
     "text": [
      "9it [00:37,  4.22s/it]\n"
     ]
    }
   ],
   "execution_count": 15
  },
  {
   "metadata": {},
   "cell_type": "code",
   "outputs": [],
   "execution_count": null,
   "source": "",
   "id": "7d95a4a222bc8347"
  }
 ],
 "metadata": {
  "kernelspec": {
   "display_name": "Python 3",
   "language": "python",
   "name": "python3"
  },
  "language_info": {
   "codemirror_mode": {
    "name": "ipython",
    "version": 2
   },
   "file_extension": ".py",
   "mimetype": "text/x-python",
   "name": "python",
   "nbconvert_exporter": "python",
   "pygments_lexer": "ipython2",
   "version": "2.7.6"
  }
 },
 "nbformat": 4,
 "nbformat_minor": 5
}
